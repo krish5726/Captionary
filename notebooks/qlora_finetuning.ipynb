{
  "cells": [
    {
      "cell_type": "code",
      "execution_count": null,
      "metadata": {
        "colab": {
          "base_uri": "https://localhost:8080/"
        },
        "id": "GI-YvModDfra",
        "outputId": "ff954662-b18a-4a27-d848-efaa2bedb579"
      },
      "outputs": [],
      "source": [
        "from google.colab import drive\n",
        "drive.mount('/content/drive')"
      ]
    },
    {
      "cell_type": "code",
      "execution_count": null,
      "metadata": {
        "colab": {
          "base_uri": "https://localhost:8080/"
        },
        "id": "OciCIE6KDiFT",
        "outputId": "6a0fa4bc-834e-4710-ad35-cc91476ebb23"
      },
      "outputs": [],
      "source": [
        "!unzip /content/drive/MyDrive/VQA.zip"
      ]
    },
    {
      "cell_type": "code",
      "execution_count": null,
      "metadata": {
        "execution": {
          "iopub.execute_input": "2025-05-17T11:09:28.737033Z",
          "iopub.status.busy": "2025-05-17T11:09:28.736827Z",
          "iopub.status.idle": "2025-05-17T11:09:33.652628Z",
          "shell.execute_reply": "2025-05-17T11:09:33.651869Z",
          "shell.execute_reply.started": "2025-05-17T11:09:28.737015Z"
        },
        "id": "4SDv4ScFDLdj",
        "trusted": true
      },
      "outputs": [],
      "source": [
        "import os\n",
        "import torch\n",
        "# os.environ[\"VISIBLE_CUDA_DEVICES\"]=\"0\"\n",
        "os.environ[\"WANDB_API_KEY\"] = \"007c52154146420e5b9b166408c9eeef9eb20599\""
      ]
    },
    {
      "cell_type": "code",
      "execution_count": null,
      "metadata": {
        "execution": {
          "iopub.execute_input": "2025-05-17T11:09:33.653791Z",
          "iopub.status.busy": "2025-05-17T11:09:33.653418Z",
          "iopub.status.idle": "2025-05-17T11:09:58.323189Z",
          "shell.execute_reply": "2025-05-17T11:09:58.322630Z",
          "shell.execute_reply.started": "2025-05-17T11:09:33.653772Z"
        },
        "id": "OlUvV-rIDLdm",
        "trusted": true
      },
      "outputs": [],
      "source": [
        "import torch\n",
        "from torch.utils.data import Subset,DataLoader\n",
        "from transformers import TrainingArguments, Trainer,BlipProcessor, BlipForQuestionAnswering\n",
        "from peft import get_peft_model, LoraConfig, TaskType\n",
        "from datasets import Dataset,load_dataset\n",
        "from PIL import Image\n",
        "import pandas as pd\n",
        "from torchvision import transforms\n",
        "from sklearn.model_selection import train_test_split\n",
        "import torch.nn as nn\n",
        "import warnings\n",
        "warnings.filterwarnings('ignore')"
      ]
    },
    {
      "cell_type": "code",
      "execution_count": null,
      "metadata": {
        "execution": {
          "iopub.execute_input": "2025-05-17T11:09:58.324971Z",
          "iopub.status.busy": "2025-05-17T11:09:58.324446Z",
          "iopub.status.idle": "2025-05-17T11:09:58.332957Z",
          "shell.execute_reply": "2025-05-17T11:09:58.332127Z",
          "shell.execute_reply.started": "2025-05-17T11:09:58.324949Z"
        },
        "id": "XomiFUi9DLdq",
        "trusted": true
      },
      "outputs": [],
      "source": [
        "from torch.utils.data import Dataset\n",
        "# from datasets import Dataset\n",
        "from PIL import Image\n",
        "import os\n",
        "class VQADataset(Dataset):\n",
        "    def __init__(self, data, processor):\n",
        "        \"\"\"\n",
        "        Args:\n",
        "            data (list of dicts): Each item should have keys: 'image', 'question', 'answer'\n",
        "            processor: BLIP-2 processor (e.g., Blip2Processor.from_pretrained(...))\n",
        "            image_root_dir (str): Root directory where images are stored\n",
        "        \"\"\"\n",
        "        # super().__init__()\n",
        "        self.data = data\n",
        "        self.processor = processor\n",
        "\n",
        "    def __len__(self):\n",
        "        return len(self.data)\n",
        "\n",
        "    def __getitem__(self, idx):\n",
        "        try:\n",
        "            # Retrieve the data item for the current index\n",
        "            item = self.data.iloc[idx]\n",
        "\n",
        "            # Construct the full path to the image\n",
        "            image_path = str(item['image_path'])\n",
        "\n",
        "            # Check if the image exists\n",
        "            if not os.path.exists(image_path):\n",
        "                raise FileNotFoundError(f\"Image not found: {image_path}\")\n",
        "\n",
        "            # Try to open the image and convert to RGB\n",
        "            try:\n",
        "                image = Image.open(image_path).convert(\"RGB\")\n",
        "            except Exception as img_err:\n",
        "                print(f\"[ERROR] Unable to open image at index {idx}: {image_path}, Error: {str(img_err)}\")\n",
        "                # You can choose to raise or skip based on your use-case\n",
        "                raise img_err\n",
        "\n",
        "            # Extract question and answer\n",
        "            question = str(item[\"question\"])\n",
        "            answer = str(item[\"response\"])\n",
        "\n",
        "            # Process the image and question using the BLIP-2 processor\n",
        "            inputs = self.processor(\n",
        "                images=image,\n",
        "                text=question,\n",
        "                return_tensors=\"pt\",\n",
        "                padding=\"max_length\",\n",
        "                truncation=True,\n",
        "                max_length=64\n",
        "            )\n",
        "\n",
        "            # Remove batch dimension from the processed inputs\n",
        "            inputs = {k: v.squeeze(0) for k, v in inputs.items()}\n",
        "\n",
        "            inputs[\"labels\"] = processor.tokenizer(answer, return_tensors=\"pt\", padding='max_length', max_length=16, truncation=True).input_ids.squeeze(0)\n",
        "\n",
        "            return inputs\n",
        "\n",
        "        except FileNotFoundError as e:\n",
        "            print(f\"[ERROR] FileNotFoundError: {str(e)}\")\n",
        "            raise e\n",
        "        except KeyError as e:\n",
        "            print(f\"[ERROR] KeyError: Missing key in data at index {idx}: {str(e)}\")\n",
        "            raise e\n",
        "        except Exception as e:\n",
        "            print(f\"[ERROR] Unexpected error at index {idx}: {str(e)}\")\n",
        "            raise e"
      ]
    },
    {
      "cell_type": "code",
      "execution_count": null,
      "metadata": {
        "colab": {
          "base_uri": "https://localhost:8080/"
        },
        "execution": {
          "iopub.execute_input": "2025-05-17T11:10:03.923717Z",
          "iopub.status.busy": "2025-05-17T11:10:03.923164Z",
          "iopub.status.idle": "2025-05-17T11:10:05.454231Z",
          "shell.execute_reply": "2025-05-17T11:10:05.453644Z",
          "shell.execute_reply.started": "2025-05-17T11:10:03.923691Z"
        },
        "id": "1K8LPkATDLds",
        "outputId": "354564e7-4645-4462-ac2e-126e943d929d",
        "trusted": true
      },
      "outputs": [],
      "source": [
        "train_df =  pd.read_csv(\"train_dataset.csv\")\n",
        "val_df = pd.read_csv(\"val.csv\")\n",
        "processor = BlipProcessor.from_pretrained(\"Salesforce/blip-vqa-base\")\n",
        "train_dataset = VQADataset(train_df[:10000],processor)\n",
        "val_dataset = VQADataset(val_df,processor)"
      ]
    },
    {
      "cell_type": "code",
      "execution_count": null,
      "metadata": {
        "colab": {
          "base_uri": "https://localhost:8080/"
        },
        "execution": {
          "iopub.execute_input": "2025-05-17T11:10:05.840586Z",
          "iopub.status.busy": "2025-05-17T11:10:05.839969Z",
          "iopub.status.idle": "2025-05-17T11:10:05.938736Z",
          "shell.execute_reply": "2025-05-17T11:10:05.937941Z",
          "shell.execute_reply.started": "2025-05-17T11:10:05.840552Z"
        },
        "id": "jWjnHGc9DLdt",
        "outputId": "5025849f-089d-408f-e3ba-d15754e87c0e",
        "trusted": true
      },
      "outputs": [],
      "source": [
        "sample_item = train_dataset[0]\n",
        "print(sample_item.keys())  # Should include 'input_ids', 'attention_mask', 'pixel_values', 'labels'\n",
        "print(sample_item['input_ids'].shape)\n",
        "print(sample_item['labels'].shape)\n",
        "print(sample_item['pixel_values'].shape)\n",
        "print( sample_item['attention_mask'].shape)\n",
        "print(sample_item)"
      ]
    },
    {
      "cell_type": "code",
      "execution_count": null,
      "metadata": {
        "colab": {
          "base_uri": "https://localhost:8080/"
        },
        "id": "l6Emhr6CE7pd",
        "outputId": "9dbd2e8c-df18-4ba4-e70a-6846fc300ec5"
      },
      "outputs": [],
      "source": [
        "pip install -U bitsandbytes"
      ]
    },
    {
      "cell_type": "code",
      "execution_count": null,
      "metadata": {
        "_cell_guid": "b1076dfc-b9ad-4769-8c92-a6c4dae69d19",
        "_uuid": "8f2839f25d086af736a60e9eeb907d3b93b6e0e5",
        "colab": {
          "base_uri": "https://localhost:8080/",
          "height": 49,
          "referenced_widgets": [
            "5505aad7ec0f4d5d88d7d226b24123fa",
            "2cc579dbe9594131ba576e3c1d32c908",
            "b0594f2e13264b04a5e3263bff6afb4d",
            "78f346b1cd8748f7a61c5f9897e75855",
            "8d6dca28dbe541209c9b5af91b9755a6",
            "a19479875a9f40ceb401557b59ef0a92",
            "e062ed6337394298af59767154ea579f",
            "6662d9d999604d6f8cdb41b3303e7937",
            "6f035722f603430982094f93c6672d40",
            "a5766ebd26c543858a8831fc0db5673d",
            "819dd0a3b2dc439f95d5dc5c6d7bd1c8"
          ]
        },
        "execution": {
          "iopub.execute_input": "2025-05-17T11:11:32.669527Z",
          "iopub.status.busy": "2025-05-17T11:11:32.669282Z",
          "iopub.status.idle": "2025-05-17T11:11:33.261473Z",
          "shell.execute_reply": "2025-05-17T11:11:33.260309Z",
          "shell.execute_reply.started": "2025-05-17T11:11:32.669504Z"
        },
        "id": "PX8bHvYBDLdu",
        "outputId": "5be51a40-89fa-49c9-df75-1c0185f606e0",
        "trusted": true
      },
      "outputs": [],
      "source": [
        "from transformers import BlipForQuestionAnswering, BitsAndBytesConfig\n",
        "from peft import LoraConfig, get_peft_model, prepare_model_for_kbit_training\n",
        "import torch\n",
        "\n",
        "# Ensure CUDA is available\n",
        "assert torch.cuda.is_available(), \"8-bit quantization requires CUDA (GPU).\"\n",
        "\n",
        "# Quantization config\n",
        "bnb_config = BitsAndBytesConfig(\n",
        "    load_in_8bit=True\n",
        ")\n",
        "\n",
        "# Load model with quantization\n",
        "model = BlipForQuestionAnswering.from_pretrained(\n",
        "    \"Salesforce/blip-vqa-base\",\n",
        "    device_map=\"auto\",\n",
        "    quantization_config=bnb_config\n",
        ")\n",
        "\n",
        "# Prepare for LoRA training\n",
        "model = prepare_model_for_kbit_training(model, use_gradient_checkpointing=False)\n",
        "\n",
        "# LoRA config\n",
        "lora_config = LoraConfig(\n",
        "    r=16,\n",
        "    lora_alpha=32,\n",
        "    target_modules=[\"query\", \"value\"],\n",
        "    lora_dropout=0.05,\n",
        "    bias=\"none\",\n",
        "    # task_type=\"MULTI_MODAL\"\n",
        ")\n",
        "\n",
        "# Apply LoRA\n",
        "model = get_peft_model(model, lora_config)\n"
      ]
    },
    {
      "cell_type": "code",
      "execution_count": null,
      "metadata": {
        "execution": {
          "iopub.execute_input": "2025-05-17T11:04:19.307472Z",
          "iopub.status.busy": "2025-05-17T11:04:19.306904Z",
          "iopub.status.idle": "2025-05-17T11:04:19.312582Z",
          "shell.execute_reply": "2025-05-17T11:04:19.311847Z",
          "shell.execute_reply.started": "2025-05-17T11:04:19.307450Z"
        },
        "id": "wvLMs74hDLdv",
        "trusted": true
      },
      "outputs": [],
      "source": [
        "def collate_fn(batch):\n",
        "    pixel_values = torch.stack([item[\"pixel_values\"] for item in batch])\n",
        "    input_ids = torch.stack([item[\"input_ids\"] for item in batch])\n",
        "    attention_mask = torch.stack([item[\"attention_mask\"] for item in batch])\n",
        "    labels = torch.nn.utils.rnn.pad_sequence(\n",
        "        [item[\"labels\"] for item in batch], batch_first=True, padding_value=-100\n",
        "    )\n",
        "    return {\n",
        "        \"pixel_values\": pixel_values,\n",
        "        \"input_ids\": input_ids,\n",
        "        \"attention_mask\": attention_mask,\n",
        "        \"labels\": labels\n",
        "    }"
      ]
    },
    {
      "cell_type": "code",
      "execution_count": null,
      "metadata": {
        "execution": {
          "iopub.execute_input": "2025-05-17T11:04:34.102578Z",
          "iopub.status.busy": "2025-05-17T11:04:34.102306Z",
          "iopub.status.idle": "2025-05-17T11:04:34.158297Z",
          "shell.execute_reply": "2025-05-17T11:04:34.157447Z",
          "shell.execute_reply.started": "2025-05-17T11:04:34.102559Z"
        },
        "id": "t4y9Lr7lDLdv",
        "trusted": true
      },
      "outputs": [],
      "source": [
        "\n",
        "from transformers import DefaultDataCollator,PrinterCallback,EarlyStoppingCallback,ProgressCallback\n",
        "\n",
        "args = TrainingArguments(\n",
        "    output_dir=\"/kaggle/working/output_dir\",\n",
        "    eval_strategy=\"epoch\",\n",
        "    run_name=\"blipvqabase-40k-16-rankqlora \",\n",
        "    gradient_accumulation_steps=1,\n",
        "    num_train_epochs=5,\n",
        "    fp16=True,\n",
        "    label_names=[\"labels\"],\n",
        "    per_device_eval_batch_size=32,\n",
        "    per_device_train_batch_size=32,\n",
        "    load_best_model_at_end=True,\n",
        "    warmup_ratio=0.1,\n",
        "    save_strategy=\"epoch\",\n",
        "    logging_strategy=\"epoch\",\n",
        "    metric_for_best_model=\"eval_loss\",\n",
        "    greater_is_better=False,\n",
        "    lr_scheduler_type=\"cosine\"\n",
        ")\n",
        "trainer = Trainer(\n",
        "    model=model,\n",
        "    args=args,\n",
        "    train_dataset=train_dataset,\n",
        "    eval_dataset=val_dataset,\n",
        "    data_collator=collate_fn,\n",
        "    callbacks=[EarlyStoppingCallback(early_stopping_patience=2,early_stopping_threshold=0.001),PrinterCallback(),ProgressCallback()]\n",
        ")"
      ]
    },
    {
      "cell_type": "code",
      "execution_count": null,
      "metadata": {
        "colab": {
          "base_uri": "https://localhost:8080/",
          "height": 571,
          "referenced_widgets": [
            "4fc21425eeef4455a18a5cacdbeccc08",
            "9ba7e3f34f6a47d1a0fdda69ecc8fea6",
            "766e908733bd474bb9d0cd7df5f3bc02",
            "2f0a6713800f4511a102a7c39d614951",
            "385ddb2874ee412990b1d514bf892261",
            "1190ef8a7657467da6d7039c7c628ad4",
            "4e57d254079546178ed1ffcc4fee134a",
            "8bbd96af9d8a42c5933781928874c5b6",
            "e2952ff947524b4bb7c7934b55a07fe1",
            "050a48870ffc4a529405741966da38ef",
            "15c486511a6b42da88d4d34c0818c2b8"
          ]
        },
        "execution": {
          "execution_failed": "2025-05-14T05:45:47.065Z",
          "iopub.execute_input": "2025-05-14T05:45:08.065817Z",
          "iopub.status.busy": "2025-05-14T05:45:08.065545Z"
        },
        "id": "5C01N1spDLdw",
        "outputId": "2defef53-51a9-40c1-9e5b-e27a5342bf61"
      },
      "outputs": [],
      "source": [
        "print(\"Training Started\")\n",
        "trainer.train()"
      ]
    },
    {
      "cell_type": "code",
      "execution_count": null,
      "metadata": {
        "execution": {
          "execution_failed": "2025-05-13T11:20:58.183Z"
        },
        "id": "4doqFGCjDLdw"
      },
      "outputs": [],
      "source": [
        "from transformers import Blip2Processor, Blip2ForConditionalGeneration\n",
        "\n",
        "# After training…\n",
        "output_dir = \"weights-qlora\"\n",
        "\n",
        "# 1) Save the model weights & config\n",
        "model.save_pretrained(output_dir)\n",
        "\n",
        "# 2) (If you used a processor for images + text)\n",
        "processor.save_pretrained(output_dir)"
      ]
    },
    {
      "cell_type": "code",
      "execution_count": null,
      "metadata": {
        "execution": {
          "execution_failed": "2025-05-13T11:20:58.183Z"
        },
        "id": "eoex-VACDLdx"
      },
      "outputs": [],
      "source": [
        "!zip -r weights.zip \"weights-qlora\""
      ]
    },
    {
      "cell_type": "code",
      "execution_count": null,
      "metadata": {
        "id": "DmtS6QUPHbD6"
      },
      "outputs": [],
      "source": [
        "!mv weights.zip /content/drive/MyDrive/\n"
      ]
    }
  ],
  "metadata": {
    "accelerator": "GPU",
    "colab": {
      "gpuType": "T4",
      "provenance": []
    },
    "kaggle": {
      "accelerator": "nvidiaTeslaT4",
      "dataSources": [
        {
          "datasetId": 7296364,
          "sourceId": 11629485,
          "sourceType": "datasetVersion"
        },
        {
          "datasetId": 7344895,
          "sourceId": 11757362,
          "sourceType": "datasetVersion"
        },
        {
          "datasetId": 7413316,
          "sourceId": 11804583,
          "sourceType": "datasetVersion"
        }
      ],
      "dockerImageVersionId": 31041,
      "isGpuEnabled": true,
      "isInternetEnabled": true,
      "language": "python",
      "sourceType": "notebook"
    },
    "kernelspec": {
      "display_name": "Python 3",
      "name": "python3"
    },
    "language_info": {
      "codemirror_mode": {
        "name": "ipython",
        "version": 3
      },
      "file_extension": ".py",
      "mimetype": "text/x-python",
      "name": "python",
      "nbconvert_exporter": "python",
      "pygments_lexer": "ipython3",
      "version": "3.10.16"
    },
    "widgets": {
      "application/vnd.jupyter.widget-state+json": {
        "050a48870ffc4a529405741966da38ef": {
          "model_module": "@jupyter-widgets/base",
          "model_module_version": "1.2.0",
          "model_name": "LayoutModel",
          "state": {
            "_model_module": "@jupyter-widgets/base",
            "_model_module_version": "1.2.0",
            "_model_name": "LayoutModel",
            "_view_count": null,
            "_view_module": "@jupyter-widgets/base",
            "_view_module_version": "1.2.0",
            "_view_name": "LayoutView",
            "align_content": null,
            "align_items": null,
            "align_self": null,
            "border": null,
            "bottom": null,
            "display": null,
            "flex": null,
            "flex_flow": null,
            "grid_area": null,
            "grid_auto_columns": null,
            "grid_auto_flow": null,
            "grid_auto_rows": null,
            "grid_column": null,
            "grid_gap": null,
            "grid_row": null,
            "grid_template_areas": null,
            "grid_template_columns": null,
            "grid_template_rows": null,
            "height": null,
            "justify_content": null,
            "justify_items": null,
            "left": null,
            "margin": null,
            "max_height": null,
            "max_width": null,
            "min_height": null,
            "min_width": null,
            "object_fit": null,
            "object_position": null,
            "order": null,
            "overflow": null,
            "overflow_x": null,
            "overflow_y": null,
            "padding": null,
            "right": null,
            "top": null,
            "visibility": null,
            "width": null
          }
        },
        "1190ef8a7657467da6d7039c7c628ad4": {
          "model_module": "@jupyter-widgets/base",
          "model_module_version": "1.2.0",
          "model_name": "LayoutModel",
          "state": {
            "_model_module": "@jupyter-widgets/base",
            "_model_module_version": "1.2.0",
            "_model_name": "LayoutModel",
            "_view_count": null,
            "_view_module": "@jupyter-widgets/base",
            "_view_module_version": "1.2.0",
            "_view_name": "LayoutView",
            "align_content": null,
            "align_items": null,
            "align_self": null,
            "border": null,
            "bottom": null,
            "display": null,
            "flex": null,
            "flex_flow": null,
            "grid_area": null,
            "grid_auto_columns": null,
            "grid_auto_flow": null,
            "grid_auto_rows": null,
            "grid_column": null,
            "grid_gap": null,
            "grid_row": null,
            "grid_template_areas": null,
            "grid_template_columns": null,
            "grid_template_rows": null,
            "height": null,
            "justify_content": null,
            "justify_items": null,
            "left": null,
            "margin": null,
            "max_height": null,
            "max_width": null,
            "min_height": null,
            "min_width": null,
            "object_fit": null,
            "object_position": null,
            "order": null,
            "overflow": null,
            "overflow_x": null,
            "overflow_y": null,
            "padding": null,
            "right": null,
            "top": null,
            "visibility": null,
            "width": null
          }
        },
        "15c486511a6b42da88d4d34c0818c2b8": {
          "model_module": "@jupyter-widgets/controls",
          "model_module_version": "1.5.0",
          "model_name": "DescriptionStyleModel",
          "state": {
            "_model_module": "@jupyter-widgets/controls",
            "_model_module_version": "1.5.0",
            "_model_name": "DescriptionStyleModel",
            "_view_count": null,
            "_view_module": "@jupyter-widgets/base",
            "_view_module_version": "1.2.0",
            "_view_name": "StyleView",
            "description_width": ""
          }
        },
        "2cc579dbe9594131ba576e3c1d32c908": {
          "model_module": "@jupyter-widgets/controls",
          "model_module_version": "1.5.0",
          "model_name": "HTMLModel",
          "state": {
            "_dom_classes": [],
            "_model_module": "@jupyter-widgets/controls",
            "_model_module_version": "1.5.0",
            "_model_name": "HTMLModel",
            "_view_count": null,
            "_view_module": "@jupyter-widgets/controls",
            "_view_module_version": "1.5.0",
            "_view_name": "HTMLView",
            "description": "",
            "description_tooltip": null,
            "layout": "IPY_MODEL_a19479875a9f40ceb401557b59ef0a92",
            "placeholder": "​",
            "style": "IPY_MODEL_e062ed6337394298af59767154ea579f",
            "value": "model.safetensors: 100%"
          }
        },
        "2f0a6713800f4511a102a7c39d614951": {
          "model_module": "@jupyter-widgets/controls",
          "model_module_version": "1.5.0",
          "model_name": "HTMLModel",
          "state": {
            "_dom_classes": [],
            "_model_module": "@jupyter-widgets/controls",
            "_model_module_version": "1.5.0",
            "_model_name": "HTMLModel",
            "_view_count": null,
            "_view_module": "@jupyter-widgets/controls",
            "_view_module_version": "1.5.0",
            "_view_name": "HTMLView",
            "description": "",
            "description_tooltip": null,
            "layout": "IPY_MODEL_050a48870ffc4a529405741966da38ef",
            "placeholder": "​",
            "style": "IPY_MODEL_15c486511a6b42da88d4d34c0818c2b8",
            "value": " 219/1565 [06:21&lt;52:56,  2.36s/it]"
          }
        },
        "385ddb2874ee412990b1d514bf892261": {
          "model_module": "@jupyter-widgets/base",
          "model_module_version": "1.2.0",
          "model_name": "LayoutModel",
          "state": {
            "_model_module": "@jupyter-widgets/base",
            "_model_module_version": "1.2.0",
            "_model_name": "LayoutModel",
            "_view_count": null,
            "_view_module": "@jupyter-widgets/base",
            "_view_module_version": "1.2.0",
            "_view_name": "LayoutView",
            "align_content": null,
            "align_items": null,
            "align_self": null,
            "border": null,
            "bottom": null,
            "display": "inline-flex",
            "flex": null,
            "flex_flow": "row wrap",
            "grid_area": null,
            "grid_auto_columns": null,
            "grid_auto_flow": null,
            "grid_auto_rows": null,
            "grid_column": null,
            "grid_gap": null,
            "grid_row": null,
            "grid_template_areas": null,
            "grid_template_columns": null,
            "grid_template_rows": null,
            "height": null,
            "justify_content": null,
            "justify_items": null,
            "left": null,
            "margin": null,
            "max_height": null,
            "max_width": null,
            "min_height": null,
            "min_width": null,
            "object_fit": null,
            "object_position": null,
            "order": null,
            "overflow": null,
            "overflow_x": null,
            "overflow_y": null,
            "padding": null,
            "right": null,
            "top": null,
            "visibility": null,
            "width": "100%"
          }
        },
        "4e57d254079546178ed1ffcc4fee134a": {
          "model_module": "@jupyter-widgets/controls",
          "model_module_version": "1.5.0",
          "model_name": "DescriptionStyleModel",
          "state": {
            "_model_module": "@jupyter-widgets/controls",
            "_model_module_version": "1.5.0",
            "_model_name": "DescriptionStyleModel",
            "_view_count": null,
            "_view_module": "@jupyter-widgets/base",
            "_view_module_version": "1.2.0",
            "_view_name": "StyleView",
            "description_width": ""
          }
        },
        "4fc21425eeef4455a18a5cacdbeccc08": {
          "model_module": "@jupyter-widgets/controls",
          "model_module_version": "1.5.0",
          "model_name": "HBoxModel",
          "state": {
            "_dom_classes": [],
            "_model_module": "@jupyter-widgets/controls",
            "_model_module_version": "1.5.0",
            "_model_name": "HBoxModel",
            "_view_count": null,
            "_view_module": "@jupyter-widgets/controls",
            "_view_module_version": "1.5.0",
            "_view_name": "HBoxView",
            "box_style": "",
            "children": [
              "IPY_MODEL_9ba7e3f34f6a47d1a0fdda69ecc8fea6",
              "IPY_MODEL_766e908733bd474bb9d0cd7df5f3bc02",
              "IPY_MODEL_2f0a6713800f4511a102a7c39d614951"
            ],
            "layout": "IPY_MODEL_385ddb2874ee412990b1d514bf892261"
          }
        },
        "5505aad7ec0f4d5d88d7d226b24123fa": {
          "model_module": "@jupyter-widgets/controls",
          "model_module_version": "1.5.0",
          "model_name": "HBoxModel",
          "state": {
            "_dom_classes": [],
            "_model_module": "@jupyter-widgets/controls",
            "_model_module_version": "1.5.0",
            "_model_name": "HBoxModel",
            "_view_count": null,
            "_view_module": "@jupyter-widgets/controls",
            "_view_module_version": "1.5.0",
            "_view_name": "HBoxView",
            "box_style": "",
            "children": [
              "IPY_MODEL_2cc579dbe9594131ba576e3c1d32c908",
              "IPY_MODEL_b0594f2e13264b04a5e3263bff6afb4d",
              "IPY_MODEL_78f346b1cd8748f7a61c5f9897e75855"
            ],
            "layout": "IPY_MODEL_8d6dca28dbe541209c9b5af91b9755a6"
          }
        },
        "6662d9d999604d6f8cdb41b3303e7937": {
          "model_module": "@jupyter-widgets/base",
          "model_module_version": "1.2.0",
          "model_name": "LayoutModel",
          "state": {
            "_model_module": "@jupyter-widgets/base",
            "_model_module_version": "1.2.0",
            "_model_name": "LayoutModel",
            "_view_count": null,
            "_view_module": "@jupyter-widgets/base",
            "_view_module_version": "1.2.0",
            "_view_name": "LayoutView",
            "align_content": null,
            "align_items": null,
            "align_self": null,
            "border": null,
            "bottom": null,
            "display": null,
            "flex": null,
            "flex_flow": null,
            "grid_area": null,
            "grid_auto_columns": null,
            "grid_auto_flow": null,
            "grid_auto_rows": null,
            "grid_column": null,
            "grid_gap": null,
            "grid_row": null,
            "grid_template_areas": null,
            "grid_template_columns": null,
            "grid_template_rows": null,
            "height": null,
            "justify_content": null,
            "justify_items": null,
            "left": null,
            "margin": null,
            "max_height": null,
            "max_width": null,
            "min_height": null,
            "min_width": null,
            "object_fit": null,
            "object_position": null,
            "order": null,
            "overflow": null,
            "overflow_x": null,
            "overflow_y": null,
            "padding": null,
            "right": null,
            "top": null,
            "visibility": null,
            "width": null
          }
        },
        "6f035722f603430982094f93c6672d40": {
          "model_module": "@jupyter-widgets/controls",
          "model_module_version": "1.5.0",
          "model_name": "ProgressStyleModel",
          "state": {
            "_model_module": "@jupyter-widgets/controls",
            "_model_module_version": "1.5.0",
            "_model_name": "ProgressStyleModel",
            "_view_count": null,
            "_view_module": "@jupyter-widgets/base",
            "_view_module_version": "1.2.0",
            "_view_name": "StyleView",
            "bar_color": null,
            "description_width": ""
          }
        },
        "766e908733bd474bb9d0cd7df5f3bc02": {
          "model_module": "@jupyter-widgets/controls",
          "model_module_version": "1.5.0",
          "model_name": "FloatProgressModel",
          "state": {
            "_dom_classes": [],
            "_model_module": "@jupyter-widgets/controls",
            "_model_module_version": "1.5.0",
            "_model_name": "FloatProgressModel",
            "_view_count": null,
            "_view_module": "@jupyter-widgets/controls",
            "_view_module_version": "1.5.0",
            "_view_name": "ProgressView",
            "bar_style": "",
            "description": "",
            "description_tooltip": null,
            "layout": "IPY_MODEL_8bbd96af9d8a42c5933781928874c5b6",
            "max": 1565,
            "min": 0,
            "orientation": "horizontal",
            "style": "IPY_MODEL_e2952ff947524b4bb7c7934b55a07fe1",
            "value": 219
          }
        },
        "78f346b1cd8748f7a61c5f9897e75855": {
          "model_module": "@jupyter-widgets/controls",
          "model_module_version": "1.5.0",
          "model_name": "HTMLModel",
          "state": {
            "_dom_classes": [],
            "_model_module": "@jupyter-widgets/controls",
            "_model_module_version": "1.5.0",
            "_model_name": "HTMLModel",
            "_view_count": null,
            "_view_module": "@jupyter-widgets/controls",
            "_view_module_version": "1.5.0",
            "_view_name": "HTMLView",
            "description": "",
            "description_tooltip": null,
            "layout": "IPY_MODEL_a5766ebd26c543858a8831fc0db5673d",
            "placeholder": "​",
            "style": "IPY_MODEL_819dd0a3b2dc439f95d5dc5c6d7bd1c8",
            "value": " 1.54G/1.54G [00:08&lt;00:00, 116MB/s]"
          }
        },
        "819dd0a3b2dc439f95d5dc5c6d7bd1c8": {
          "model_module": "@jupyter-widgets/controls",
          "model_module_version": "1.5.0",
          "model_name": "DescriptionStyleModel",
          "state": {
            "_model_module": "@jupyter-widgets/controls",
            "_model_module_version": "1.5.0",
            "_model_name": "DescriptionStyleModel",
            "_view_count": null,
            "_view_module": "@jupyter-widgets/base",
            "_view_module_version": "1.2.0",
            "_view_name": "StyleView",
            "description_width": ""
          }
        },
        "8bbd96af9d8a42c5933781928874c5b6": {
          "model_module": "@jupyter-widgets/base",
          "model_module_version": "1.2.0",
          "model_name": "LayoutModel",
          "state": {
            "_model_module": "@jupyter-widgets/base",
            "_model_module_version": "1.2.0",
            "_model_name": "LayoutModel",
            "_view_count": null,
            "_view_module": "@jupyter-widgets/base",
            "_view_module_version": "1.2.0",
            "_view_name": "LayoutView",
            "align_content": null,
            "align_items": null,
            "align_self": null,
            "border": null,
            "bottom": null,
            "display": null,
            "flex": "2",
            "flex_flow": null,
            "grid_area": null,
            "grid_auto_columns": null,
            "grid_auto_flow": null,
            "grid_auto_rows": null,
            "grid_column": null,
            "grid_gap": null,
            "grid_row": null,
            "grid_template_areas": null,
            "grid_template_columns": null,
            "grid_template_rows": null,
            "height": null,
            "justify_content": null,
            "justify_items": null,
            "left": null,
            "margin": null,
            "max_height": null,
            "max_width": null,
            "min_height": null,
            "min_width": null,
            "object_fit": null,
            "object_position": null,
            "order": null,
            "overflow": null,
            "overflow_x": null,
            "overflow_y": null,
            "padding": null,
            "right": null,
            "top": null,
            "visibility": null,
            "width": null
          }
        },
        "8d6dca28dbe541209c9b5af91b9755a6": {
          "model_module": "@jupyter-widgets/base",
          "model_module_version": "1.2.0",
          "model_name": "LayoutModel",
          "state": {
            "_model_module": "@jupyter-widgets/base",
            "_model_module_version": "1.2.0",
            "_model_name": "LayoutModel",
            "_view_count": null,
            "_view_module": "@jupyter-widgets/base",
            "_view_module_version": "1.2.0",
            "_view_name": "LayoutView",
            "align_content": null,
            "align_items": null,
            "align_self": null,
            "border": null,
            "bottom": null,
            "display": null,
            "flex": null,
            "flex_flow": null,
            "grid_area": null,
            "grid_auto_columns": null,
            "grid_auto_flow": null,
            "grid_auto_rows": null,
            "grid_column": null,
            "grid_gap": null,
            "grid_row": null,
            "grid_template_areas": null,
            "grid_template_columns": null,
            "grid_template_rows": null,
            "height": null,
            "justify_content": null,
            "justify_items": null,
            "left": null,
            "margin": null,
            "max_height": null,
            "max_width": null,
            "min_height": null,
            "min_width": null,
            "object_fit": null,
            "object_position": null,
            "order": null,
            "overflow": null,
            "overflow_x": null,
            "overflow_y": null,
            "padding": null,
            "right": null,
            "top": null,
            "visibility": null,
            "width": null
          }
        },
        "9ba7e3f34f6a47d1a0fdda69ecc8fea6": {
          "model_module": "@jupyter-widgets/controls",
          "model_module_version": "1.5.0",
          "model_name": "HTMLModel",
          "state": {
            "_dom_classes": [],
            "_model_module": "@jupyter-widgets/controls",
            "_model_module_version": "1.5.0",
            "_model_name": "HTMLModel",
            "_view_count": null,
            "_view_module": "@jupyter-widgets/controls",
            "_view_module_version": "1.5.0",
            "_view_name": "HTMLView",
            "description": "",
            "description_tooltip": null,
            "layout": "IPY_MODEL_1190ef8a7657467da6d7039c7c628ad4",
            "placeholder": "​",
            "style": "IPY_MODEL_4e57d254079546178ed1ffcc4fee134a",
            "value": " 14%"
          }
        },
        "a19479875a9f40ceb401557b59ef0a92": {
          "model_module": "@jupyter-widgets/base",
          "model_module_version": "1.2.0",
          "model_name": "LayoutModel",
          "state": {
            "_model_module": "@jupyter-widgets/base",
            "_model_module_version": "1.2.0",
            "_model_name": "LayoutModel",
            "_view_count": null,
            "_view_module": "@jupyter-widgets/base",
            "_view_module_version": "1.2.0",
            "_view_name": "LayoutView",
            "align_content": null,
            "align_items": null,
            "align_self": null,
            "border": null,
            "bottom": null,
            "display": null,
            "flex": null,
            "flex_flow": null,
            "grid_area": null,
            "grid_auto_columns": null,
            "grid_auto_flow": null,
            "grid_auto_rows": null,
            "grid_column": null,
            "grid_gap": null,
            "grid_row": null,
            "grid_template_areas": null,
            "grid_template_columns": null,
            "grid_template_rows": null,
            "height": null,
            "justify_content": null,
            "justify_items": null,
            "left": null,
            "margin": null,
            "max_height": null,
            "max_width": null,
            "min_height": null,
            "min_width": null,
            "object_fit": null,
            "object_position": null,
            "order": null,
            "overflow": null,
            "overflow_x": null,
            "overflow_y": null,
            "padding": null,
            "right": null,
            "top": null,
            "visibility": null,
            "width": null
          }
        },
        "a5766ebd26c543858a8831fc0db5673d": {
          "model_module": "@jupyter-widgets/base",
          "model_module_version": "1.2.0",
          "model_name": "LayoutModel",
          "state": {
            "_model_module": "@jupyter-widgets/base",
            "_model_module_version": "1.2.0",
            "_model_name": "LayoutModel",
            "_view_count": null,
            "_view_module": "@jupyter-widgets/base",
            "_view_module_version": "1.2.0",
            "_view_name": "LayoutView",
            "align_content": null,
            "align_items": null,
            "align_self": null,
            "border": null,
            "bottom": null,
            "display": null,
            "flex": null,
            "flex_flow": null,
            "grid_area": null,
            "grid_auto_columns": null,
            "grid_auto_flow": null,
            "grid_auto_rows": null,
            "grid_column": null,
            "grid_gap": null,
            "grid_row": null,
            "grid_template_areas": null,
            "grid_template_columns": null,
            "grid_template_rows": null,
            "height": null,
            "justify_content": null,
            "justify_items": null,
            "left": null,
            "margin": null,
            "max_height": null,
            "max_width": null,
            "min_height": null,
            "min_width": null,
            "object_fit": null,
            "object_position": null,
            "order": null,
            "overflow": null,
            "overflow_x": null,
            "overflow_y": null,
            "padding": null,
            "right": null,
            "top": null,
            "visibility": null,
            "width": null
          }
        },
        "b0594f2e13264b04a5e3263bff6afb4d": {
          "model_module": "@jupyter-widgets/controls",
          "model_module_version": "1.5.0",
          "model_name": "FloatProgressModel",
          "state": {
            "_dom_classes": [],
            "_model_module": "@jupyter-widgets/controls",
            "_model_module_version": "1.5.0",
            "_model_name": "FloatProgressModel",
            "_view_count": null,
            "_view_module": "@jupyter-widgets/controls",
            "_view_module_version": "1.5.0",
            "_view_name": "ProgressView",
            "bar_style": "success",
            "description": "",
            "description_tooltip": null,
            "layout": "IPY_MODEL_6662d9d999604d6f8cdb41b3303e7937",
            "max": 1538800584,
            "min": 0,
            "orientation": "horizontal",
            "style": "IPY_MODEL_6f035722f603430982094f93c6672d40",
            "value": 1538800584
          }
        },
        "e062ed6337394298af59767154ea579f": {
          "model_module": "@jupyter-widgets/controls",
          "model_module_version": "1.5.0",
          "model_name": "DescriptionStyleModel",
          "state": {
            "_model_module": "@jupyter-widgets/controls",
            "_model_module_version": "1.5.0",
            "_model_name": "DescriptionStyleModel",
            "_view_count": null,
            "_view_module": "@jupyter-widgets/base",
            "_view_module_version": "1.2.0",
            "_view_name": "StyleView",
            "description_width": ""
          }
        },
        "e2952ff947524b4bb7c7934b55a07fe1": {
          "model_module": "@jupyter-widgets/controls",
          "model_module_version": "1.5.0",
          "model_name": "ProgressStyleModel",
          "state": {
            "_model_module": "@jupyter-widgets/controls",
            "_model_module_version": "1.5.0",
            "_model_name": "ProgressStyleModel",
            "_view_count": null,
            "_view_module": "@jupyter-widgets/base",
            "_view_module_version": "1.2.0",
            "_view_name": "StyleView",
            "bar_color": null,
            "description_width": ""
          }
        }
      }
    }
  },
  "nbformat": 4,
  "nbformat_minor": 0
}
