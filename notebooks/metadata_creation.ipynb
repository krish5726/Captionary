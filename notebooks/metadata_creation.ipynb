{
 "cells": [
  {
   "cell_type": "code",
   "execution_count": 2,
   "id": "1666aeb9",
   "metadata": {},
   "outputs": [],
   "source": [
    "import pandas as pd\n",
    "import json\n",
    "import os"
   ]
  },
  {
   "cell_type": "code",
   "execution_count": 3,
   "id": "737e3087",
   "metadata": {},
   "outputs": [
    {
     "data": {
      "application/vnd.microsoft.datawrangler.viewer.v0+json": {
       "columns": [
        {
         "name": "index",
         "rawType": "int64",
         "type": "integer"
        },
        {
         "name": "image_id",
         "rawType": "object",
         "type": "string"
        },
        {
         "name": "height",
         "rawType": "int64",
         "type": "integer"
        },
        {
         "name": "width",
         "rawType": "int64",
         "type": "integer"
        },
        {
         "name": "path",
         "rawType": "object",
         "type": "string"
        }
       ],
       "conversionMethod": "pd.DataFrame",
       "ref": "a82735ec-a6ba-4813-9a83-50c05aee834d",
       "rows": [
        [
         "0",
         "010-mllS7JL",
         "106",
         "106",
         "14/14fe8812.jpg"
        ],
        [
         "1",
         "01dkn0Gyx0L",
         "122",
         "122",
         "da/daab0cad.jpg"
        ],
        [
         "2",
         "01sUPg0387L",
         "111",
         "111",
         "d2/d2daaae9.jpg"
        ],
        [
         "3",
         "1168jc-5r1L",
         "186",
         "186",
         "3a/3a4e88e6.jpg"
        ],
        [
         "4",
         "11RUV5Fs65L",
         "30",
         "500",
         "d9/d91ab9cf.jpg"
        ]
       ],
       "shape": {
        "columns": 4,
        "rows": 5
       }
      },
      "text/html": [
       "<div>\n",
       "<style scoped>\n",
       "    .dataframe tbody tr th:only-of-type {\n",
       "        vertical-align: middle;\n",
       "    }\n",
       "\n",
       "    .dataframe tbody tr th {\n",
       "        vertical-align: top;\n",
       "    }\n",
       "\n",
       "    .dataframe thead th {\n",
       "        text-align: right;\n",
       "    }\n",
       "</style>\n",
       "<table border=\"1\" class=\"dataframe\">\n",
       "  <thead>\n",
       "    <tr style=\"text-align: right;\">\n",
       "      <th></th>\n",
       "      <th>image_id</th>\n",
       "      <th>height</th>\n",
       "      <th>width</th>\n",
       "      <th>path</th>\n",
       "    </tr>\n",
       "  </thead>\n",
       "  <tbody>\n",
       "    <tr>\n",
       "      <th>0</th>\n",
       "      <td>010-mllS7JL</td>\n",
       "      <td>106</td>\n",
       "      <td>106</td>\n",
       "      <td>14/14fe8812.jpg</td>\n",
       "    </tr>\n",
       "    <tr>\n",
       "      <th>1</th>\n",
       "      <td>01dkn0Gyx0L</td>\n",
       "      <td>122</td>\n",
       "      <td>122</td>\n",
       "      <td>da/daab0cad.jpg</td>\n",
       "    </tr>\n",
       "    <tr>\n",
       "      <th>2</th>\n",
       "      <td>01sUPg0387L</td>\n",
       "      <td>111</td>\n",
       "      <td>111</td>\n",
       "      <td>d2/d2daaae9.jpg</td>\n",
       "    </tr>\n",
       "    <tr>\n",
       "      <th>3</th>\n",
       "      <td>1168jc-5r1L</td>\n",
       "      <td>186</td>\n",
       "      <td>186</td>\n",
       "      <td>3a/3a4e88e6.jpg</td>\n",
       "    </tr>\n",
       "    <tr>\n",
       "      <th>4</th>\n",
       "      <td>11RUV5Fs65L</td>\n",
       "      <td>30</td>\n",
       "      <td>500</td>\n",
       "      <td>d9/d91ab9cf.jpg</td>\n",
       "    </tr>\n",
       "  </tbody>\n",
       "</table>\n",
       "</div>"
      ],
      "text/plain": [
       "      image_id  height  width             path\n",
       "0  010-mllS7JL     106    106  14/14fe8812.jpg\n",
       "1  01dkn0Gyx0L     122    122  da/daab0cad.jpg\n",
       "2  01sUPg0387L     111    111  d2/d2daaae9.jpg\n",
       "3  1168jc-5r1L     186    186  3a/3a4e88e6.jpg\n",
       "4  11RUV5Fs65L      30    500  d9/d91ab9cf.jpg"
      ]
     },
     "execution_count": 3,
     "metadata": {},
     "output_type": "execute_result"
    }
   ],
   "source": [
    "meta = pd.read_csv('/home/siddhesh/Documents/Visual Question Answering/images/metadata/images.csv')\n",
    "meta.head()"
   ]
  },
  {
   "cell_type": "code",
   "execution_count": 31,
   "id": "d2cd0485",
   "metadata": {},
   "outputs": [
    {
     "name": "stdout",
     "output_type": "stream",
     "text": [
      "✅ Cleaned & merged CSV written to: merged_metadata_final.csv\n"
     ]
    }
   ],
   "source": [
    "import os\n",
    "import json\n",
    "import pandas as pd\n",
    "\n",
    "json_folder = 'listings/metadata'  # Replace with your JSON folder path\n",
    "csv_file = 'images/metadata/images.csv'    # Replace with your CSV file path\n",
    "output_csv = 'merged_metadata_final.csv'\n",
    "\n",
    "# Load image CSV\n",
    "csv_df = pd.read_csv(csv_file)\n",
    "\n",
    "# Prepare a list to hold JSON data\n",
    "json_records = []\n",
    "\n",
    "# Loop through each JSON file in the folder\n",
    "for filename in os.listdir(json_folder):\n",
    "    if filename.endswith(\".json\"):\n",
    "        with open(os.path.join(json_folder, filename), 'r', encoding='utf-8') as f:\n",
    "            for line in f:\n",
    "                try:\n",
    "                    data = json.loads(line)\n",
    "                    data_flat = {}\n",
    "\n",
    "                    # Add main_image_id for joining\n",
    "                    data_flat[\"main_image_id\"] = data.get(\"main_image_id\")\n",
    "\n",
    "                    # Extract required fields only\n",
    "                    for field in [\"bullet_point\", \"item_name\"]:\n",
    "                        val = data.get(field)\n",
    "\n",
    "                        # If it's a list of dictionaries, filter by \"en*\" language_tag\n",
    "                        if isinstance(val, list):\n",
    "                            filtered = [\n",
    "                                v.get(\"value\") for v in val\n",
    "                                if isinstance(v, dict)\n",
    "                                and v.get(\"language_tag\", \"\").startswith(\"en\")\n",
    "                                and \"value\" in v\n",
    "                            ]\n",
    "                            data_flat[field] = \"; \".join(filtered) if filtered else None\n",
    "\n",
    "                        elif isinstance(val, dict):\n",
    "                            # Filter if language_tag starts with \"en\"\n",
    "                            if val.get(\"language_tag\", \"\").startswith(\"en\"):\n",
    "                                data_flat[field] = val.get(\"value\")\n",
    "                            else:\n",
    "                                data_flat[field] = None\n",
    "                        else:\n",
    "                            data_flat[field] = val\n",
    "\n",
    "                    json_records.append(data_flat)\n",
    "\n",
    "                except json.JSONDecodeError as e:\n",
    "                    print(f\"Skipping line in {filename}: JSONDecodeError - {e}\")\n",
    "\n",
    "# Create a DataFrame from JSON records\n",
    "json_df = pd.DataFrame(json_records)\n",
    "\n",
    "# Merge with image CSV on image_id\n",
    "merged_df = pd.merge(csv_df, json_df, left_on=\"image_id\", right_on=\"main_image_id\", how=\"inner\")\n",
    "\n",
    "# Keep only required columns\n",
    "columns_to_keep = [\"image_id\", \"height\", \"width\", \"path\", \"bullet_point\", \"item_name\"]\n",
    "merged_df = merged_df[columns_to_keep]\n",
    "\n",
    "# Drop rows with nulls in required columns\n",
    "merged_df = merged_df.dropna(subset=columns_to_keep)\n",
    "\n",
    "# Drop rows where bullet_point is empty or just whitespace\n",
    "merged_df = merged_df[merged_df['bullet_point'].apply(lambda x: isinstance(x, str) and x.strip() != '')]\n",
    "\n",
    "# Save to CSV\n",
    "merged_df.to_csv(output_csv, index=False)\n",
    "print(f\"✅ Cleaned & merged CSV written to: {output_csv}\")\n"
   ]
  },
  {
   "cell_type": "code",
   "execution_count": 28,
   "id": "bc042df0",
   "metadata": {},
   "outputs": [
    {
     "data": {
      "application/vnd.microsoft.datawrangler.viewer.v0+json": {
       "columns": [
        {
         "name": "index",
         "rawType": "int64",
         "type": "integer"
        },
        {
         "name": "image_id",
         "rawType": "object",
         "type": "string"
        },
        {
         "name": "height",
         "rawType": "int64",
         "type": "integer"
        },
        {
         "name": "width",
         "rawType": "int64",
         "type": "integer"
        },
        {
         "name": "path",
         "rawType": "object",
         "type": "string"
        },
        {
         "name": "bullet_point",
         "rawType": "object",
         "type": "string"
        },
        {
         "name": "item_name",
         "rawType": "object",
         "type": "string"
        }
       ],
       "conversionMethod": "pd.DataFrame",
       "ref": "37532e23-a4ae-46cc-b901-16a0eb4e915b",
       "rows": [
        [
         "0",
         "11xjmNF5TAL",
         "117",
         "88",
         "ee/ee239f0f.jpg",
         "Roomy playing tower for cats: L*W*H =48.5*48.5*129cm /19.1*19.1* 50.8\" . Having 5 plattforms and 5 scratching posts this cat tree provides a great space for cat's jumping, running and scratching. Moreover the single condo makes sure that your cat have a good resting place and have a sweet dream.; Sturby and secure: Never need to worry about the security and the firmness of this cat tree. High quality materials and super solid construction, well balanced design, strong base, cats can easily and safely leap on or off this cat tree without worries about wobbling or toppling over.; Multifunctional cat scratching post: This cat tree with 5 floors, 4 scratching posts, 3 plush toy balls, as a large, activity and playing centre totally meet the jumping and scratching nature of your little tiger.; All mats are attached on the board with velcros so they’ll not move when cats play or rest. Easy to detach for cleaning and washing. The soft top perch is also removable.; Easy to install: With a clear installation for instruction and the attached accessories you will have no problem installing the scratching post. And if you any product problem, we gurantee a satisfying customer service.",
         "UMI by Amazon Modern Wood Cat Tree Cats Multi Floor Large Play Tower Sisal Scratching Post Kitten Furniture Activity Centre With Condo Playhouse Dangling Toy Grey"
        ],
        [
         "1",
         "211PkHPVD6L",
         "500",
         "207",
         "14/1434e124.jpg",
         "Medidas: 196 x 51 x 45 cm; Diseño moderno y brillante; Su estilo universal se adapta a cualquier tipo de hogar; Patas robustas de madera maciza; Requiere montaje Incluye instrucciones fáciles de seguir; Viene sin ensamblar; 2 años de garantía; Medidas: 196 x 51 x 45 cm; Design moderno e brilhante; O seu estilo universal adapta-se a qualquer tipo de casa; Pernas robustas em madeira maciça; Requer montagem inclui instruções fáceis de seguir; Vem sem montagem; 2 anos de garantia",
         "Marca Amazon - Movian Moselle - Aparador con vitrina (roble Sonoma/blanco alpino); Marca Amazon - Movian Moselle - Aparador com vitrina (carvalho Sonoma/branco alpino)"
        ],
        [
         "2",
         "21480aGcowL",
         "158",
         "498",
         "55/55d6744e.jpg",
         "RESISTENTE A LA CORROSIÓN: esta barra para toallas de mano está hecha de acero inoxidable SUS304 de primera calidad que previene el óxido y requiere pocos cuidados. Es un toallero perfecto para ambientes húmedos, como baños y cocinas.; MONTAJE SENCILLO: no hace falta taladro, por lo que es fácil de instalar. Solo tienes que retirar la capa protectora de la tira adhesiva y fijarla a una pared lisa. La tira adhesiva es fuerte y resistente al agua.; ACABADO CEPILLADO: acero inoxidable de primera calidad con acabado cepillado que, además de bonito, es resistente a los rayones y al desgaste diario. Carga máxima: 3 kg.; MEDIDAS: el largo total es de 76,6 cm, de los cuales 75 cm son utilizables para colgar la toalla. Este toallero se puede usar en cocinas, cuartos de baño y lavaderos para colgar toallas o paños.; NOTA: las bandas autoadhesivas pueden aplicarse únicamente en superficies lisas sin polvo ni humedad (por ejemplo, azulejos, vidrio y metal). NO COLOCAR sobre papel pintado ni tejidos, puesto que podría dañar las superficies. Una vez instalado, esperar 48 horas antes de usarlo.",
         "Eono Essentials - Toallero de barra autoadhesiva de acero inoxidable SUS304 con acabado cepillado y tratamiento anticorrosión para el cuarto de baño, montaje sin taladro, 75 cm (A7000S75B-2)"
        ],
        [
         "3",
         "215GfWP2YBL",
         "165",
         "236",
         "ce/ce90c508.jpg",
         "Juego de toallas lujoso de 6 unidades con 2 toallas de baño, 2 toallas de mano y 2 toallas de tocador.; Hecho de 100 % algodón egipcio para una suavidad, absorbencia y durabilidad superior.; El algodón egipcio crea mayor suavidad, absorbencia y durabilidad en este voluminoso juego de toallas.; Las toallas se vuelven más suaves con cada lavado y secado a máquina.; El juego pesa más de 4 1/2 lb (1,25 kg) y tiene 2 toallas de baño de 30\" x 56\" (76,2 cm x 142, 3 cm), 2 toallas de mano de 18\" x 30\" (45,7 cm x 76,2 cm) y 2 toallas de tocador de 13\" x 13\" (33 cm x 33 cm).",
         "Pinzon Juego de toallas de algodón egipcio , 6 unidades, Color Driftwood"
        ],
        [
         "4",
         "21MMsRD3K3L",
         "500",
         "500",
         "1c/1cab1979.jpg",
         "Stoff - 100% seide, Hochwertigste Klasse-6A Langfaserseide, 25 momme.; Natürlich Hypoallergen - Maulbeerseide ist eine natürliche Faser, die Hausstaubmilben abweist, und ihre hypoallergene Wirkung hilft bei der Beseitigung von Allergien und Asthma, perfekt für Menschen mit empfindlicher Haut.; Haar- und Hautpflege - Mit einem extrem niedrigen Reibungskoeffizienten von 7,4% trägt Seidenstoff dazu bei, die Reibung zwischen Haar / Haut und kopfkissenbezug zu verringern, es beugt Schlaffalten vor und hilft dabei, das Haar die ganze Nacht über schön zu stylen.; Geprüfte Qualität - Bewährt durch die Öko-Tex-Zertifizierung, die sicherstellt, dass das Gewebe ohne Verwendung schädlicher Chemikalien hergestellt wurde.; Pflegehinweise - Maschinenwaschbar bei 30°C. Zum Trocknen aufhängen. Handwäsche empfohlen.",
         "UMI Seide Kissenbezug 80x80cm aus 100% Maulbeerseide 25 Momme Kissenhülle für Haar und Haut Champagner, Reißverschluss, Doppelseitiger Seide"
        ]
       ],
       "shape": {
        "columns": 6,
        "rows": 5
       }
      },
      "text/html": [
       "<div>\n",
       "<style scoped>\n",
       "    .dataframe tbody tr th:only-of-type {\n",
       "        vertical-align: middle;\n",
       "    }\n",
       "\n",
       "    .dataframe tbody tr th {\n",
       "        vertical-align: top;\n",
       "    }\n",
       "\n",
       "    .dataframe thead th {\n",
       "        text-align: right;\n",
       "    }\n",
       "</style>\n",
       "<table border=\"1\" class=\"dataframe\">\n",
       "  <thead>\n",
       "    <tr style=\"text-align: right;\">\n",
       "      <th></th>\n",
       "      <th>image_id</th>\n",
       "      <th>height</th>\n",
       "      <th>width</th>\n",
       "      <th>path</th>\n",
       "      <th>bullet_point</th>\n",
       "      <th>item_name</th>\n",
       "    </tr>\n",
       "  </thead>\n",
       "  <tbody>\n",
       "    <tr>\n",
       "      <th>0</th>\n",
       "      <td>11xjmNF5TAL</td>\n",
       "      <td>117</td>\n",
       "      <td>88</td>\n",
       "      <td>ee/ee239f0f.jpg</td>\n",
       "      <td>Roomy playing tower for cats: L*W*H =48.5*48.5...</td>\n",
       "      <td>UMI by Amazon Modern Wood Cat Tree Cats Multi ...</td>\n",
       "    </tr>\n",
       "    <tr>\n",
       "      <th>1</th>\n",
       "      <td>211PkHPVD6L</td>\n",
       "      <td>500</td>\n",
       "      <td>207</td>\n",
       "      <td>14/1434e124.jpg</td>\n",
       "      <td>Medidas: 196 x 51 x 45 cm; Diseño moderno y br...</td>\n",
       "      <td>Marca Amazon - Movian Moselle - Aparador con v...</td>\n",
       "    </tr>\n",
       "    <tr>\n",
       "      <th>2</th>\n",
       "      <td>21480aGcowL</td>\n",
       "      <td>158</td>\n",
       "      <td>498</td>\n",
       "      <td>55/55d6744e.jpg</td>\n",
       "      <td>RESISTENTE A LA CORROSIÓN: esta barra para toa...</td>\n",
       "      <td>Eono Essentials - Toallero de barra autoadhesi...</td>\n",
       "    </tr>\n",
       "    <tr>\n",
       "      <th>3</th>\n",
       "      <td>215GfWP2YBL</td>\n",
       "      <td>165</td>\n",
       "      <td>236</td>\n",
       "      <td>ce/ce90c508.jpg</td>\n",
       "      <td>Juego de toallas lujoso de 6 unidades con 2 to...</td>\n",
       "      <td>Pinzon Juego de toallas de algodón egipcio , 6...</td>\n",
       "    </tr>\n",
       "    <tr>\n",
       "      <th>4</th>\n",
       "      <td>21MMsRD3K3L</td>\n",
       "      <td>500</td>\n",
       "      <td>500</td>\n",
       "      <td>1c/1cab1979.jpg</td>\n",
       "      <td>Stoff - 100% seide, Hochwertigste Klasse-6A La...</td>\n",
       "      <td>UMI Seide Kissenbezug 80x80cm aus 100% Maulbee...</td>\n",
       "    </tr>\n",
       "  </tbody>\n",
       "</table>\n",
       "</div>"
      ],
      "text/plain": [
       "      image_id  height  width             path  \\\n",
       "0  11xjmNF5TAL     117     88  ee/ee239f0f.jpg   \n",
       "1  211PkHPVD6L     500    207  14/1434e124.jpg   \n",
       "2  21480aGcowL     158    498  55/55d6744e.jpg   \n",
       "3  215GfWP2YBL     165    236  ce/ce90c508.jpg   \n",
       "4  21MMsRD3K3L     500    500  1c/1cab1979.jpg   \n",
       "\n",
       "                                        bullet_point  \\\n",
       "0  Roomy playing tower for cats: L*W*H =48.5*48.5...   \n",
       "1  Medidas: 196 x 51 x 45 cm; Diseño moderno y br...   \n",
       "2  RESISTENTE A LA CORROSIÓN: esta barra para toa...   \n",
       "3  Juego de toallas lujoso de 6 unidades con 2 to...   \n",
       "4  Stoff - 100% seide, Hochwertigste Klasse-6A La...   \n",
       "\n",
       "                                           item_name  \n",
       "0  UMI by Amazon Modern Wood Cat Tree Cats Multi ...  \n",
       "1  Marca Amazon - Movian Moselle - Aparador con v...  \n",
       "2  Eono Essentials - Toallero de barra autoadhesi...  \n",
       "3  Pinzon Juego de toallas de algodón egipcio , 6...  \n",
       "4  UMI Seide Kissenbezug 80x80cm aus 100% Maulbee...  "
      ]
     },
     "execution_count": 28,
     "metadata": {},
     "output_type": "execute_result"
    }
   ],
   "source": [
    "merged_data = pd.read_csv('merged_metadata.csv')\n",
    "merged_data.head()"
   ]
  },
  {
   "cell_type": "code",
   "execution_count": 32,
   "id": "4ebb0560",
   "metadata": {},
   "outputs": [
    {
     "data": {
      "text/plain": [
       "131225"
      ]
     },
     "execution_count": 32,
     "metadata": {},
     "output_type": "execute_result"
    }
   ],
   "source": [
    "len(merged_data)"
   ]
  },
  {
   "cell_type": "code",
   "execution_count": 33,
   "id": "635849f4",
   "metadata": {},
   "outputs": [
    {
     "data": {
      "text/plain": [
       "'UMI Seide Kissenbezug 50x75cm aus 100% Maulbeerseide 25 Momme Kissenhülle für Haar und Haut Marineblau, Reißverschluss, Doppelseitiger Seide'"
      ]
     },
     "execution_count": 33,
     "metadata": {},
     "output_type": "execute_result"
    }
   ],
   "source": [
    "merged_data['item_name'][101]"
   ]
  }
 ],
 "metadata": {
  "kernelspec": {
   "display_name": "vrenv",
   "language": "python",
   "name": "python3"
  },
  "language_info": {
   "codemirror_mode": {
    "name": "ipython",
    "version": 3
   },
   "file_extension": ".py",
   "mimetype": "text/x-python",
   "name": "python",
   "nbconvert_exporter": "python",
   "pygments_lexer": "ipython3",
   "version": "3.10.16"
  }
 },
 "nbformat": 4,
 "nbformat_minor": 5
}
