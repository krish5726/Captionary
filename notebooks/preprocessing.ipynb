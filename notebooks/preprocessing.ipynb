{
 "cells": [
  {
   "cell_type": "code",
   "execution_count": 1,
   "id": "8bf9e130",
   "metadata": {},
   "outputs": [],
   "source": [
    "import pandas as pd\n",
    "from sklearn.model_selection import train_test_split"
   ]
  },
  {
   "cell_type": "code",
   "execution_count": 2,
   "id": "2af7f988",
   "metadata": {},
   "outputs": [
    {
     "data": {
      "text/plain": [
       "76873"
      ]
     },
     "execution_count": 2,
     "metadata": {},
     "output_type": "execute_result"
    }
   ],
   "source": [
    "import pandas as pd\n",
    "cols=['image_id','image_path','question','response']\n",
    "df0 = pd.read_csv('responses_0.csv',names=cols,header=None)\n",
    "df1 =pd.read_csv('responses_1.csv',names=cols,header=None)\n",
    "df2=pd.read_csv('responses_2.csv',names=cols,header=None)\n",
    "df3=pd.read_csv('responses_3.csv',names=cols,header=None)\n",
    "df4=pd.read_csv('responses_4.csv',names=cols,header=None)\n",
    "df5=pd.read_csv('responses_5.csv',names=cols,header=None)\n",
    "df6=pd.read_csv('validation_0.csv',names=cols,header=None)\n",
    "df7=pd.read_csv('validation_1.csv',names=cols,header=None)\n",
    "df8=pd.read_csv('validation_2.csv',names=cols,header=None)\n",
    "\n",
    "final_df = pd.concat([df0,df1,df2,df3,df4,df5,df6,df7,df8])\n",
    "final_df.head()\n",
    "len(final_df)\n"
   ]
  },
  {
   "cell_type": "code",
   "execution_count": 3,
   "id": "f70ebd5e",
   "metadata": {},
   "outputs": [
    {
     "data": {
      "application/vnd.microsoft.datawrangler.viewer.v0+json": {
       "columns": [
        {
         "name": "index",
         "rawType": "int64",
         "type": "integer"
        },
        {
         "name": "image_id",
         "rawType": "object",
         "type": "string"
        },
        {
         "name": "image_path",
         "rawType": "object",
         "type": "string"
        },
        {
         "name": "question",
         "rawType": "object",
         "type": "string"
        },
        {
         "name": "response",
         "rawType": "object",
         "type": "string"
        }
       ],
       "conversionMethod": "pd.DataFrame",
       "ref": "f8704c90-aaec-44fc-92c3-adce46ec5514",
       "rows": [
        [
         "0",
         "11xjmNF5TAL",
         "images/small/ee/ee239f0f.jpg",
         "How many platforms are present?",
         "Five"
        ],
        [
         "1",
         "11xjmNF5TAL",
         "images/small/ee/ee239f0f.jpg",
         "What shape is the base implied?",
         "Square"
        ],
        [
         "2",
         "11xjmNF5TAL",
         "images/small/ee/ee239f0f.jpg",
         "Are mats attached by glue?",
         "No"
        ],
        [
         "3",
         "21QA1aaQcsL",
         "images/small/1e/1e00bd6c.jpg",
         "What is the connector's plating material?",
         "Gold"
        ],
        [
         "4",
         "21QA1aaQcsL",
         "images/small/1e/1e00bd6c.jpg",
         "Is this bi-directional?",
         "No"
        ]
       ],
       "shape": {
        "columns": 4,
        "rows": 5
       }
      },
      "text/html": [
       "<div>\n",
       "<style scoped>\n",
       "    .dataframe tbody tr th:only-of-type {\n",
       "        vertical-align: middle;\n",
       "    }\n",
       "\n",
       "    .dataframe tbody tr th {\n",
       "        vertical-align: top;\n",
       "    }\n",
       "\n",
       "    .dataframe thead th {\n",
       "        text-align: right;\n",
       "    }\n",
       "</style>\n",
       "<table border=\"1\" class=\"dataframe\">\n",
       "  <thead>\n",
       "    <tr style=\"text-align: right;\">\n",
       "      <th></th>\n",
       "      <th>image_id</th>\n",
       "      <th>image_path</th>\n",
       "      <th>question</th>\n",
       "      <th>response</th>\n",
       "    </tr>\n",
       "  </thead>\n",
       "  <tbody>\n",
       "    <tr>\n",
       "      <th>0</th>\n",
       "      <td>11xjmNF5TAL</td>\n",
       "      <td>images/small/ee/ee239f0f.jpg</td>\n",
       "      <td>How many platforms are present?</td>\n",
       "      <td>Five</td>\n",
       "    </tr>\n",
       "    <tr>\n",
       "      <th>1</th>\n",
       "      <td>11xjmNF5TAL</td>\n",
       "      <td>images/small/ee/ee239f0f.jpg</td>\n",
       "      <td>What shape is the base implied?</td>\n",
       "      <td>Square</td>\n",
       "    </tr>\n",
       "    <tr>\n",
       "      <th>2</th>\n",
       "      <td>11xjmNF5TAL</td>\n",
       "      <td>images/small/ee/ee239f0f.jpg</td>\n",
       "      <td>Are mats attached by glue?</td>\n",
       "      <td>No</td>\n",
       "    </tr>\n",
       "    <tr>\n",
       "      <th>3</th>\n",
       "      <td>21QA1aaQcsL</td>\n",
       "      <td>images/small/1e/1e00bd6c.jpg</td>\n",
       "      <td>What is the connector's plating material?</td>\n",
       "      <td>Gold</td>\n",
       "    </tr>\n",
       "    <tr>\n",
       "      <th>4</th>\n",
       "      <td>21QA1aaQcsL</td>\n",
       "      <td>images/small/1e/1e00bd6c.jpg</td>\n",
       "      <td>Is this bi-directional?</td>\n",
       "      <td>No</td>\n",
       "    </tr>\n",
       "  </tbody>\n",
       "</table>\n",
       "</div>"
      ],
      "text/plain": [
       "      image_id                    image_path  \\\n",
       "0  11xjmNF5TAL  images/small/ee/ee239f0f.jpg   \n",
       "1  11xjmNF5TAL  images/small/ee/ee239f0f.jpg   \n",
       "2  11xjmNF5TAL  images/small/ee/ee239f0f.jpg   \n",
       "3  21QA1aaQcsL  images/small/1e/1e00bd6c.jpg   \n",
       "4  21QA1aaQcsL  images/small/1e/1e00bd6c.jpg   \n",
       "\n",
       "                                    question response  \n",
       "0            How many platforms are present?     Five  \n",
       "1            What shape is the base implied?   Square  \n",
       "2                 Are mats attached by glue?       No  \n",
       "3  What is the connector's plating material?     Gold  \n",
       "4                    Is this bi-directional?       No  "
      ]
     },
     "execution_count": 3,
     "metadata": {},
     "output_type": "execute_result"
    }
   ],
   "source": [
    "final_df['question'] =  final_df['question'].str.strip('<>')\n",
    "final_df['response'] =  final_df['response'].str.strip('<>')\n",
    "final_df.head()"
   ]
  },
  {
   "cell_type": "code",
   "execution_count": 4,
   "id": "b3bd1175",
   "metadata": {},
   "outputs": [
    {
     "data": {
      "text/plain": [
       "76377"
      ]
     },
     "execution_count": 4,
     "metadata": {},
     "output_type": "execute_result"
    }
   ],
   "source": [
    "final_df.drop_duplicates(inplace=True)\n",
    "len(final_df)"
   ]
  },
  {
   "cell_type": "code",
   "execution_count": 5,
   "id": "63886193",
   "metadata": {},
   "outputs": [],
   "source": [
    "final_df = final_df[~final_df['question'].str.startswith('question', na=False)]"
   ]
  },
  {
   "cell_type": "code",
   "execution_count": 6,
   "id": "5e373d5d",
   "metadata": {},
   "outputs": [
    {
     "data": {
      "text/plain": [
       "75972"
      ]
     },
     "execution_count": 6,
     "metadata": {},
     "output_type": "execute_result"
    }
   ],
   "source": [
    "len(final_df)"
   ]
  },
  {
   "cell_type": "code",
   "execution_count": 7,
   "id": "1e1b69eb",
   "metadata": {},
   "outputs": [
    {
     "data": {
      "application/vnd.microsoft.datawrangler.viewer.v0+json": {
       "columns": [
        {
         "name": "index",
         "rawType": "int64",
         "type": "integer"
        },
        {
         "name": "image_id",
         "rawType": "object",
         "type": "string"
        },
        {
         "name": "image_path",
         "rawType": "object",
         "type": "string"
        },
        {
         "name": "question",
         "rawType": "object",
         "type": "string"
        },
        {
         "name": "response",
         "rawType": "object",
         "type": "string"
        }
       ],
       "conversionMethod": "pd.DataFrame",
       "ref": "3249233b-5879-4260-9dec-2330250636a2",
       "rows": [
        [
         "0",
         "619c+6gFfLL",
         "images/small/6d/6dea4559.jpg",
         "What phone is compatible with this case?",
         "iPhone"
        ],
        [
         "1",
         "81CLty56GOL",
         "images/small/f9/f945817b.jpg",
         "What is the material?",
         "Hard"
        ],
        [
         "2",
         "81BAktswExL",
         "images/small/41/4163d9c4.jpg",
         "What feature enhances movement?",
         "Wheels"
        ],
        [
         "3",
         "61--8qNpl5L",
         "images/small/50/5077f355.jpg",
         "What is the design?",
         "Stylish"
        ],
        [
         "4",
         "A1XkC6xtBPL",
         "images/small/5a/5a16216f.jpg",
         "What capacity does it have in gallons?",
         "Four"
        ]
       ],
       "shape": {
        "columns": 4,
        "rows": 5
       }
      },
      "text/html": [
       "<div>\n",
       "<style scoped>\n",
       "    .dataframe tbody tr th:only-of-type {\n",
       "        vertical-align: middle;\n",
       "    }\n",
       "\n",
       "    .dataframe tbody tr th {\n",
       "        vertical-align: top;\n",
       "    }\n",
       "\n",
       "    .dataframe thead th {\n",
       "        text-align: right;\n",
       "    }\n",
       "</style>\n",
       "<table border=\"1\" class=\"dataframe\">\n",
       "  <thead>\n",
       "    <tr style=\"text-align: right;\">\n",
       "      <th></th>\n",
       "      <th>image_id</th>\n",
       "      <th>image_path</th>\n",
       "      <th>question</th>\n",
       "      <th>response</th>\n",
       "    </tr>\n",
       "  </thead>\n",
       "  <tbody>\n",
       "    <tr>\n",
       "      <th>0</th>\n",
       "      <td>619c+6gFfLL</td>\n",
       "      <td>images/small/6d/6dea4559.jpg</td>\n",
       "      <td>What phone is compatible with this case?</td>\n",
       "      <td>iPhone</td>\n",
       "    </tr>\n",
       "    <tr>\n",
       "      <th>1</th>\n",
       "      <td>81CLty56GOL</td>\n",
       "      <td>images/small/f9/f945817b.jpg</td>\n",
       "      <td>What is the material?</td>\n",
       "      <td>Hard</td>\n",
       "    </tr>\n",
       "    <tr>\n",
       "      <th>2</th>\n",
       "      <td>81BAktswExL</td>\n",
       "      <td>images/small/41/4163d9c4.jpg</td>\n",
       "      <td>What feature enhances movement?</td>\n",
       "      <td>Wheels</td>\n",
       "    </tr>\n",
       "    <tr>\n",
       "      <th>3</th>\n",
       "      <td>61--8qNpl5L</td>\n",
       "      <td>images/small/50/5077f355.jpg</td>\n",
       "      <td>What is the design?</td>\n",
       "      <td>Stylish</td>\n",
       "    </tr>\n",
       "    <tr>\n",
       "      <th>4</th>\n",
       "      <td>A1XkC6xtBPL</td>\n",
       "      <td>images/small/5a/5a16216f.jpg</td>\n",
       "      <td>What capacity does it have in gallons?</td>\n",
       "      <td>Four</td>\n",
       "    </tr>\n",
       "  </tbody>\n",
       "</table>\n",
       "</div>"
      ],
      "text/plain": [
       "      image_id                    image_path  \\\n",
       "0  619c+6gFfLL  images/small/6d/6dea4559.jpg   \n",
       "1  81CLty56GOL  images/small/f9/f945817b.jpg   \n",
       "2  81BAktswExL  images/small/41/4163d9c4.jpg   \n",
       "3  61--8qNpl5L  images/small/50/5077f355.jpg   \n",
       "4  A1XkC6xtBPL  images/small/5a/5a16216f.jpg   \n",
       "\n",
       "                                   question response  \n",
       "0  What phone is compatible with this case?   iPhone  \n",
       "1                     What is the material?     Hard  \n",
       "2           What feature enhances movement?   Wheels  \n",
       "3                       What is the design?  Stylish  \n",
       "4    What capacity does it have in gallons?     Four  "
      ]
     },
     "execution_count": 7,
     "metadata": {},
     "output_type": "execute_result"
    }
   ],
   "source": [
    "final_df = final_df.sample(frac=1,random_state=42).reset_index(drop=True)\n",
    "final_df.head()"
   ]
  },
  {
   "cell_type": "code",
   "execution_count": 8,
   "id": "0d5beacb",
   "metadata": {},
   "outputs": [],
   "source": [
    "def remove_empty(df):\n",
    "    clean_df = df[~(df[['response','question']].applymap(\n",
    "    lambda x: pd.isna(x) or str(x).strip() == ''\n",
    ").any(axis=1))]\n",
    "    return clean_df"
   ]
  },
  {
   "cell_type": "code",
   "execution_count": 9,
   "id": "1ca69309",
   "metadata": {},
   "outputs": [
    {
     "name": "stderr",
     "output_type": "stream",
     "text": [
      "/tmp/ipykernel_55170/438449326.py:2: FutureWarning: DataFrame.applymap has been deprecated. Use DataFrame.map instead.\n",
      "  clean_df = df[~(df[['response','question']].applymap(\n"
     ]
    },
    {
     "data": {
      "text/plain": [
       "75143"
      ]
     },
     "execution_count": 9,
     "metadata": {},
     "output_type": "execute_result"
    }
   ],
   "source": [
    "final_df = remove_empty(final_df)\n",
    "len(final_df)"
   ]
  },
  {
   "cell_type": "code",
   "execution_count": null,
   "id": "121957e9",
   "metadata": {},
   "outputs": [],
   "source": [
    "final_df = final_df.fillna(\"None\")"
   ]
  },
  {
   "cell_type": "code",
   "execution_count": 10,
   "id": "66135248",
   "metadata": {},
   "outputs": [],
   "source": [
    "train_df = final_df[:40000]\n",
    "test_df = final_df[40000:65000]\n",
    "val_df = final_df[65000:]\n",
    "train_df.to_csv('train.csv', index=False)   \n",
    "test_df.to_csv('test.csv', index=False)\n",
    "val_df.to_csv('val.csv', index=False)"
   ]
  },
  {
   "cell_type": "code",
   "execution_count": 11,
   "id": "bc12507f",
   "metadata": {},
   "outputs": [
    {
     "name": "stdout",
     "output_type": "stream",
     "text": [
      "40000\n",
      "25000\n",
      "10143\n"
     ]
    }
   ],
   "source": [
    "print(len(train_df))\n",
    "print(len(test_df))\n",
    "print(len(val_df))"
   ]
  },
  {
   "cell_type": "code",
   "execution_count": null,
   "id": "c977095d",
   "metadata": {},
   "outputs": [],
   "source": []
  }
 ],
 "metadata": {
  "kernelspec": {
   "display_name": "vrenv",
   "language": "python",
   "name": "python3"
  },
  "language_info": {
   "codemirror_mode": {
    "name": "ipython",
    "version": 3
   },
   "file_extension": ".py",
   "mimetype": "text/x-python",
   "name": "python",
   "nbconvert_exporter": "python",
   "pygments_lexer": "ipython3",
   "version": "3.10.16"
  }
 },
 "nbformat": 4,
 "nbformat_minor": 5
}
